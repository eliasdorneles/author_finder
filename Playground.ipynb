{
 "cells": [
  {
   "cell_type": "code",
   "execution_count": 1,
   "metadata": {
    "collapsed": true
   },
   "outputs": [],
   "source": [
    "import samples"
   ]
  },
  {
   "cell_type": "code",
   "execution_count": 2,
   "metadata": {
    "collapsed": false
   },
   "outputs": [
    {
     "name": "stdout",
     "output_type": "stream",
     "text": [
      ".............................\n",
      "Total page samples: 29\n"
     ]
    }
   ],
   "source": [
    "dataset = samples.get_dataset()"
   ]
  },
  {
   "cell_type": "code",
   "execution_count": 3,
   "metadata": {
    "collapsed": false
   },
   "outputs": [],
   "source": [
    "import parsel\n",
    "\n",
    "def get_all_leaves(page):\n",
    "    sel = parsel.Selector(text=page.decode('utf-8'))\n",
    "    return sel.xpath(\"//*[not(*)][./text()]\")\n",
    "\n",
    "def get_all_meta_content(page):\n",
    "    sel = parsel.Selector(text=page.decode('utf-8'))\n",
    "    return sel.xpath(\"//meta[@content]\")"
   ]
  },
  {
   "cell_type": "markdown",
   "metadata": {},
   "source": [
    "A quick look at the samples indicate that there is usually a match either in a text leaf or in a meta content."
   ]
  },
  {
   "cell_type": "code",
   "execution_count": 4,
   "metadata": {
    "collapsed": false
   },
   "outputs": [],
   "source": [
    "for it in dataset:\n",
    "    text_leaves = [e.xpath('./text()').extract_first().strip() for e in get_all_leaves(it['page'])]\n",
    "    it['exact_match_in_leaves'] = text_leaves.count(it['target'])\n",
    "    it['match_in_leaves'] = sum(1 for l in text_leaves if it['target'] in l)\n",
    "    \n",
    "    meta_content = [e.xpath('./@content').extract_first().strip() for e in get_all_meta_content(it['page'])]\n",
    "    it['exact_match_in_meta'] = meta_content.count(it['target'])\n",
    "    it['match_in_meta'] = sum(1 for l in meta_content if it['target'] in l)"
   ]
  },
  {
   "cell_type": "code",
   "execution_count": 5,
   "metadata": {
    "collapsed": false
   },
   "outputs": [
    {
     "name": "stdout",
     "output_type": "stream",
     "text": [
      "EL: 1 L: 1 EM: 0 M: 0\n",
      "EL: 0 L: 2 EM: 2 M: 2\n",
      "EL: 0 L: 0 EM: 1 M: 1\n",
      "EL: 1 L: 4 EM: 0 M: 0\n",
      "EL: 1 L: 2 EM: 0 M: 2\n",
      "EL: 0 L: 3 EM: 0 M: 0\n",
      "EL: 1 L: 4 EM: 1 M: 2\n",
      "EL: 1 L: 4 EM: 0 M: 0\n",
      "EL: 1 L: 1 EM: 0 M: 0\n",
      "EL: 3 L: 4 EM: 1 M: 1\n",
      "EL: 1 L: 3 EM: 1 M: 1\n",
      "EL: 2 L: 3 EM: 0 M: 0\n",
      "EL: 1 L: 3 EM: 1 M: 1\n",
      "EL: 4 L: 6 EM: 1 M: 1\n",
      "EL: 1 L: 3 EM: 0 M: 0\n",
      "EL: 1 L: 2 EM: 0 M: 0\n",
      "EL: 2 L: 3 EM: 0 M: 0\n",
      "EL: 2 L: 4 EM: 1 M: 1\n",
      "EL: 4 L: 8 EM: 2 M: 3\n",
      "EL: 23 L: 25 EM: 0 M: 1\n",
      "EL: 1 L: 1 EM: 0 M: 0\n",
      "EL: 1 L: 3 EM: 1 M: 2\n",
      "EL: 2 L: 3 EM: 0 M: 0\n",
      "EL: 2 L: 2 EM: 0 M: 2\n",
      "EL: 1 L: 1 EM: 0 M: 0\n",
      "EL: 3 L: 3 EM: 0 M: 0\n",
      "EL: 1 L: 1 EM: 0 M: 0\n",
      "EL: 1 L: 1 EM: 0 M: 0\n",
      "EL: 1 L: 4 EM: 2 M: 2\n"
     ]
    }
   ],
   "source": [
    "for it in dataset:\n",
    "    s = 'EL: {exact_match_in_leaves} L: {match_in_leaves} EM: {exact_match_in_meta} M: {match_in_meta}'.format(**it)\n",
    "    print(s)"
   ]
  }
 ],
 "metadata": {
  "kernelspec": {
   "display_name": "Python 2",
   "language": "python",
   "name": "python2"
  },
  "language_info": {
   "codemirror_mode": {
    "name": "ipython",
    "version": 2
   },
   "file_extension": ".py",
   "mimetype": "text/x-python",
   "name": "python",
   "nbconvert_exporter": "python",
   "pygments_lexer": "ipython2",
   "version": "2.7.6"
  }
 },
 "nbformat": 4,
 "nbformat_minor": 0
}
