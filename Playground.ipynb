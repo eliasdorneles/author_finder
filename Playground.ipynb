{
 "cells": [
  {
   "cell_type": "code",
   "execution_count": 1,
   "metadata": {
    "collapsed": true
   },
   "outputs": [],
   "source": [
    "import samples"
   ]
  },
  {
   "cell_type": "code",
   "execution_count": 2,
   "metadata": {
    "collapsed": false
   },
   "outputs": [
    {
     "name": "stdout",
     "output_type": "stream",
     "text": [
      "Using from cache http://eliasdorneles.github.io/2016/06/19/on-getting-productive-with-git.html\n",
      "Using from cache http://winterbe.com/posts/2015/04/07/java8-concurrency-tutorial-thread-executor-examples/\n",
      "Using from cache http://www.salon.com/2016/04/10/malcolm_gladwell_got_us_wrong_our_research_was_key_to_the_10000_hour_rule_but_heres_what_got_oversimplified/\n",
      "Using from cache https://www.washingtonpost.com/news/post-nation/wp/2014/12/09/ohio-man-exonerated-after-spending-27-years-in-prison-for-a-murder-he-didnt-commit\n",
      "Using from cache http://www.dailymail.co.uk/news/article-2095605/Spanish-town-celebrates-winning-600m-lottery--man-FORGOT-buy-ticket.html\n",
      "Using from cache http://keionline.org/node/2614\n",
      "Using from cache http://www.wired.com/2016/07/mailchimp-sends-billion-emails-day-thats-easy-part/\n",
      "Using from cache http://nautil.us/issue/27/dark-matter/the-curious-case-of-the-bog-bodies\n",
      "Using from cache http://blog.zorinaq.com/release-of-hablog-and-new-design/\n",
      "Using from cache http://www.smithsonianmag.com/science-nature/philippines-island-unique-mammals-180959823/\n",
      "Using from cache http://degoes.net/articles/destroy-all-ifs\n",
      "Using from cache http://www.theatlantic.com/health/archive/2016/07/the-enigma-of-urban-psychosis/491141/\n",
      "Using from cache http://thinkonbytes.blogspot.com.br/2016/07/your-openstreetmap-server-in-120gb.html\n",
      "Using from cache http://themerkle.com/new-senate-bill-aims-to-restrict-tor-access-for-illicit-activities/\n",
      "Using from cache http://gizmodo.com/drawing-eyes-on-cow-butts-may-ward-off-hungry-lions-1783744270\n",
      "Using from cache http://www.billboard.com/biz/articles/news/legal-and-management/7439046/apple-proposes-simplified-statutory-licensing-scheme\n",
      "Using from cache http://www.drmaciver.com/2016/07/contributors-do-not-save-time/\n",
      "Using from cache http://www.theregister.co.uk/2016/07/15/aussie_bank_boffins_drop_slick_ir_tool_for_mandiant_mobs/\n",
      "Using from cache http://www.theatlantic.com/science/archive/2016/07/the-turtle-shell-first-evolved-for-digging-not-defence/491087/\n",
      "Using from cache http://www.bloomberg.com/view/articles/2016-07-15/herbalife-will-have-to-live-without-mansions-and-private-jets\n",
      "Using from cache http://arstechnica.com/apple/2016/07/hands-on-with-swift-playgrounds-apples-attempt-to-get-kids-to-code/\n",
      "Using from cache https://about.gitlab.com/2016/07/12/our-handbook-is-open-source-heres-why/\n",
      "Using from cache http://yellerapp.com/posts/2015-01-12-the-worst-server-setup-you-can-make.html\n",
      "Using from cache https://techcrunch.com/2016/05/20/purism-builds-a-secure-tablet-with-physical-wi-fi-and-camera-switches/\n",
      "Using from cache http://www.theregister.co.uk/2016/07/13/coding_error_costs_citigroup_7m\n",
      "Using from cache https://aeon.co/essays/micro-targeted-digital-porn-is-changing-human-sexuality\n",
      "Using from cache http://chrismm.com/blog/the-other-kind-of-javascript-fatigue/\n",
      "Using from cache https://blog.ethereum.org/2016/07/15/to-fork-or-not-to-fork/\n",
      "Using from cache https://blog.trailofbits.com/2016/07/11/why-i-didnt-catch-any-pokemon-today/\n",
      "Using from cache http://codingvc.com/why-startup-technical-diligence-is-a-waste-of-time/\n",
      "Using from cache http://mobile.reuters.com/article/idUSKCN0ZS2VI\n",
      "Total page samples: 31\n"
     ]
    }
   ],
   "source": [
    "dataset = samples.get_dataset()"
   ]
  },
  {
   "cell_type": "code",
   "execution_count": 3,
   "metadata": {
    "collapsed": false
   },
   "outputs": [],
   "source": [
    "import parsel\n",
    "\n",
    "def get_text_for_all_leaves(page):\n",
    "    sel = parsel.Selector(text=page.decode('utf-8'))\n",
    "    return sel.xpath(\"//*[not(*)]/text()\").extract()"
   ]
  },
  {
   "cell_type": "code",
   "execution_count": 5,
   "metadata": {
    "collapsed": false
   },
   "outputs": [
    {
     "name": "stdout",
     "output_type": "stream",
     "text": [
      "Found 1 times 'Elias Dorneles' in http://eliasdorneles.github.io/2016/06/19/on-getting-productive-with-git.html\n",
      "Found 0 times 'Benjamin Winterberg' in http://winterbe.com/posts/2015/04/07/java8-concurrency-tutorial-thread-executor-examples/\n",
      "Found 0 times 'Anders Ericsson and Robert Pool' in http://www.salon.com/2016/04/10/malcolm_gladwell_got_us_wrong_our_research_was_key_to_the_10000_hour_rule_but_heres_what_got_oversimplified/\n",
      "Found 1 times 'Elahe Izadi' in https://www.washingtonpost.com/news/post-nation/wp/2014/12/09/ohio-man-exonerated-after-spending-27-years-in-prison-for-a-murder-he-didnt-commit\n",
      "Found 1 times 'Rob Cooper' in http://www.dailymail.co.uk/news/article-2095605/Spanish-town-celebrates-winning-600m-lottery--man-FORGOT-buy-ticket.html\n",
      "Found 0 times 'James Love' in http://keionline.org/node/2614\n",
      "Found 1 times 'Klint Finley' in http://www.wired.com/2016/07/mailchimp-sends-billion-emails-day-thats-easy-part/\n",
      "Found 1 times 'Kristen C. French' in http://nautil.us/issue/27/dark-matter/the-curious-case-of-the-bog-bodies\n",
      "Found 1 times 'Marc Bevand' in http://blog.zorinaq.com/release-of-hablog-and-new-design/\n",
      "Found 0 times 'Ben Garrod' in http://www.smithsonianmag.com/science-nature/philippines-island-unique-mammals-180959823/\n",
      "Found 3 times 'John A De Goes' in http://degoes.net/articles/destroy-all-ifs\n",
      "Found 1 times 'Vaughan Bell' in http://www.theatlantic.com/health/archive/2016/07/the-enigma-of-urban-psychosis/491141/\n",
      "Found 2 times 'Marcos Costales' in http://thinkonbytes.blogspot.com.br/2016/07/your-openstreetmap-server-in-120gb.html\n",
      "Found 1 times 'JP Buntinx' in http://themerkle.com/new-senate-bill-aims-to-restrict-tor-access-for-illicit-activities/\n",
      "Found 4 times 'Jennifer Ouellette' in http://gizmodo.com/drawing-eyes-on-cow-butts-may-ward-off-hungry-lions-1783744270\n",
      "Found 1 times 'Robert Levine' in http://www.billboard.com/biz/articles/news/legal-and-management/7439046/apple-proposes-simplified-statutory-licensing-scheme\n",
      "Found 1 times 'David R. MacIver' in http://www.drmaciver.com/2016/07/contributors-do-not-save-time/\n",
      "Found 2 times 'Darren Pauli' in http://www.theregister.co.uk/2016/07/15/aussie_bank_boffins_drop_slick_ir_tool_for_mandiant_mobs/\n",
      "Found 2 times 'Ed Yong' in http://www.theatlantic.com/science/archive/2016/07/the-turtle-shell-first-evolved-for-digging-not-defence/491087/\n",
      "Found 4 times 'Matt Levine' in http://www.bloomberg.com/view/articles/2016-07-15/herbalife-will-have-to-live-without-mansions-and-private-jets\n",
      "Found 23 times 'Andrew Cunningham' in http://arstechnica.com/apple/2016/07/hands-on-with-swift-playgrounds-apples-attempt-to-get-kids-to-code/\n",
      "Found 1 times 'Sid Sijbrandij' in https://about.gitlab.com/2016/07/12/our-handbook-is-open-source-heres-why/\n",
      "Found 0 times '' in http://yellerapp.com/posts/2015-01-12-the-worst-server-setup-you-can-make.html\n",
      "Found 1 times 'John Biggs' in https://techcrunch.com/2016/05/20/purism-builds-a-secure-tablet-with-physical-wi-fi-and-camera-switches/\n",
      "Found 2 times 'Kieren McCarthy' in http://www.theregister.co.uk/2016/07/13/coding_error_costs_citigroup_7m\n",
      "Found 2 times 'Mark Hay' in https://aeon.co/essays/micro-targeted-digital-porn-is-changing-human-sexuality\n",
      "Found 1 times 'Christian Maioli Mackeprang' in http://chrismm.com/blog/the-other-kind-of-javascript-fatigue/\n",
      "Found 3 times 'Jeffrey Wilcke' in https://blog.ethereum.org/2016/07/15/to-fork-or-not-to-fork/\n",
      "Found 1 times 'Dan Guido' in https://blog.trailofbits.com/2016/07/11/why-i-didnt-catch-any-pokemon-today/\n",
      "Found 1 times 'Rodrigo Martinez' in http://codingvc.com/why-startup-technical-diligence-is-a-waste-of-time/\n",
      "Found 1 times 'Nate Raymond' in http://mobile.reuters.com/article/idUSKCN0ZS2VI\n"
     ]
    }
   ],
   "source": [
    "for it in dataset:\n",
    "    text_leaves = [e.strip() for e in get_text_for_all_leaves(it['page'])]\n",
    "    count = text_leaves.count(it['target'])\n",
    "    print('Found %d times %r in %s' % (count, it['target'], it['url']))"
   ]
  }
 ],
 "metadata": {
  "kernelspec": {
   "display_name": "Python 2",
   "language": "python",
   "name": "python2"
  },
  "language_info": {
   "codemirror_mode": {
    "name": "ipython",
    "version": 2
   },
   "file_extension": ".py",
   "mimetype": "text/x-python",
   "name": "python",
   "nbconvert_exporter": "python",
   "pygments_lexer": "ipython2",
   "version": "2.7.6"
  }
 },
 "nbformat": 4,
 "nbformat_minor": 0
}
